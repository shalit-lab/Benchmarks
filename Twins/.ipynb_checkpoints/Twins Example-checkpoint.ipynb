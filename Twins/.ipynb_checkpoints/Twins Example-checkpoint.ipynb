{
 "cells": [
  {
   "cell_type": "code",
   "execution_count": 1,
   "metadata": {},
   "outputs": [],
   "source": [
    "import pandas as pd\n",
    "import numpy as np\n",
    "from sklearn.linear_model import LogisticRegression\n",
    "from causallib.estimation import StratifiedStandardization"
   ]
  },
  {
   "cell_type": "markdown",
   "metadata": {},
   "source": [
    "## Load dataset to a dataframe\n",
    "#### Note that covariates are seperated into to categories: true confounders and proxies. See [here](https://arxiv.org/abs/1705.08821) for more details, but in short, the proxies were generated as noisy measurements of a confounder that is not included in the dataset."
   ]
  },
  {
   "cell_type": "code",
   "execution_count": 6,
   "metadata": {},
   "outputs": [
    {
     "name": "stdout",
     "output_type": "stream",
     "text": [
      "True Causal Effect: -0.02520026702269693\n"
     ]
    }
   ],
   "source": [
    "dataset_dict = pd.read_csv('Final_data_twins.csv', index_col=[0])\n",
    "T = dataset_dict['T'].values\n",
    "Y = dataset_dict['yf'].values\n",
    "YCF = dataset_dict['y_cf'].values\n",
    "all_covariates = pd.DataFrame(dataset_dict.drop(columns=['T', 'y0', 'y1', 'yf', 'y_cf', 'Propensity']))\n",
    "proxies = all_covariates[[col for col in all_covariates if col.startswith('gestat')]]\n",
    "true_confounders = all_covariates[[col for col in all_covariates if not col.startswith('gestat')]]\n",
    "\n",
    "y0 = Y * (1 - T) + YCF * T\n",
    "y1 = Y * T + YCF * (1 - T)\n",
    "tau = np.mean(y1-y0)\n",
    "print(f'True Causal Effect: {tau}')\n",
    "\n",
    "nx = proxies.shape[1]\n",
    "nu = true_confounders.shape[1]\n",
    "col_names = ['T', 'Y']\n",
    "for iR in range(nu):\n",
    "    col_names += (['U' + str(iR)])\n",
    "for iX in range(nx):\n",
    "    col_names += (['X' + str(iX)])\n",
    "\n",
    "df = pd.DataFrame(np.hstack([T.reshape(-1, 1), Y.reshape(-1, 1), true_confounders, proxies]), columns=col_names)"
   ]
  },
  {
   "cell_type": "markdown",
   "metadata": {},
   "source": [
    "## Estimate causal effect"
   ]
  },
  {
   "cell_type": "code",
   "execution_count": 4,
   "metadata": {},
   "outputs": [
    {
     "name": "stdout",
     "output_type": "stream",
     "text": [
      "Estimated Causal Effect: -0.01351802403204272\n"
     ]
    }
   ],
   "source": [
    "std = StratifiedStandardization(LogisticRegression(max_iter=1000))\n",
    "std.fit(df.copy().drop(columns=['T', 'Y']), df['T'], df['Y'])\n",
    "pop_outcomes = std.estimate_population_outcome(df.copy().drop(columns=['T', 'Y']), df['T'])\n",
    "lr = std.estimate_effect(pop_outcomes[1], pop_outcomes[0])\n",
    "print(f'Estimated Causal Effect: {lr.item()}')"
   ]
  }
 ],
 "metadata": {
  "kernelspec": {
   "display_name": "Python 3",
   "language": "python",
   "name": "python3"
  },
  "language_info": {
   "codemirror_mode": {
    "name": "ipython",
    "version": 3
   },
   "file_extension": ".py",
   "mimetype": "text/x-python",
   "name": "python",
   "nbconvert_exporter": "python",
   "pygments_lexer": "ipython3",
   "version": "3.6.9"
  }
 },
 "nbformat": 4,
 "nbformat_minor": 2
}
